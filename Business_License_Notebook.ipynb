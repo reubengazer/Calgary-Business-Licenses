{
 "cells": [
  {
   "cell_type": "markdown",
   "metadata": {},
   "source": [
    "# Analysis of Calgary Business License Data\n",
    "\n",
    "Dataset provided by: The City of Calgary"
   ]
  },
  {
   "cell_type": "code",
   "execution_count": 167,
   "metadata": {
    "collapsed": true
   },
   "outputs": [],
   "source": [
    "import pandas as pd\n",
    "import numpy as np\n",
    "import pylab as plt\n",
    "import seaborn as sns\n",
    "sns.set(style='white',context='notebook')\n",
    "%matplotlib inline"
   ]
  },
  {
   "cell_type": "code",
   "execution_count": 5,
   "metadata": {
    "collapsed": false
   },
   "outputs": [
    {
     "data": {
      "text/html": [
       "<div>\n",
       "<style scoped>\n",
       "    .dataframe tbody tr th:only-of-type {\n",
       "        vertical-align: middle;\n",
       "    }\n",
       "\n",
       "    .dataframe tbody tr th {\n",
       "        vertical-align: top;\n",
       "    }\n",
       "\n",
       "    .dataframe thead th {\n",
       "        text-align: right;\n",
       "    }\n",
       "</style>\n",
       "<table border=\"1\" class=\"dataframe\">\n",
       "  <thead>\n",
       "    <tr style=\"text-align: right;\">\n",
       "      <th></th>\n",
       "      <th>TRADENAME</th>\n",
       "      <th>ADDRESS</th>\n",
       "      <th>LICENCETYPES</th>\n",
       "      <th>COMDISTNM</th>\n",
       "      <th>JOBSTATUSDESC</th>\n",
       "      <th>JOBCREATED</th>\n",
       "      <th>longitude</th>\n",
       "      <th>latitude</th>\n",
       "      <th>location</th>\n",
       "      <th>Count</th>\n",
       "    </tr>\n",
       "  </thead>\n",
       "  <tbody>\n",
       "    <tr>\n",
       "      <th>0</th>\n",
       "      <td>MORE CONVENIENCE STORE</td>\n",
       "      <td>11201 30 ST SW</td>\n",
       "      <td>RETAIL DEALER - PREMISES</td>\n",
       "      <td>CEDARBRAE</td>\n",
       "      <td>RENEWAL LICENSED</td>\n",
       "      <td>2009/06/11</td>\n",
       "      <td>-114.130062</td>\n",
       "      <td>50.953449</td>\n",
       "      <td>(50.9534492575157, -114.130062103058)</td>\n",
       "      <td>1</td>\n",
       "    </tr>\n",
       "    <tr>\n",
       "      <th>1</th>\n",
       "      <td>CUBEX</td>\n",
       "      <td>9304 HORTON RD SW</td>\n",
       "      <td>WHOLESALER</td>\n",
       "      <td>HAYSBORO</td>\n",
       "      <td>RENEWAL LICENSED</td>\n",
       "      <td>2014/01/07</td>\n",
       "      <td>-114.075268</td>\n",
       "      <td>50.971295</td>\n",
       "      <td>(50.9712947174267, -114.075267980215)</td>\n",
       "      <td>1</td>\n",
       "    </tr>\n",
       "    <tr>\n",
       "      <th>2</th>\n",
       "      <td>RESTAURANT AT LOUGHEED HOUSE (THE)</td>\n",
       "      <td>707 13 AV SW</td>\n",
       "      <td>ALCOHOL BEVERAGE SALES (RESTAURANT)</td>\n",
       "      <td>BELTLINE</td>\n",
       "      <td>RENEWAL LICENSED</td>\n",
       "      <td>2009/10/16</td>\n",
       "      <td>-114.077150</td>\n",
       "      <td>51.040573</td>\n",
       "      <td>(51.0405732559672, -114.077149598877)</td>\n",
       "      <td>1</td>\n",
       "    </tr>\n",
       "    <tr>\n",
       "      <th>3</th>\n",
       "      <td>WESTECK WINDOWS AND DOORS</td>\n",
       "      <td>#4 2015 32 AV NE</td>\n",
       "      <td>RETAIL DEALER - PREMISES</td>\n",
       "      <td>SOUTH AIRWAYS</td>\n",
       "      <td>RENEWAL LICENSED</td>\n",
       "      <td>2015/12/07</td>\n",
       "      <td>-114.010275</td>\n",
       "      <td>51.080509</td>\n",
       "      <td>(51.0805090794563, -114.010274803475)</td>\n",
       "      <td>1</td>\n",
       "    </tr>\n",
       "    <tr>\n",
       "      <th>4</th>\n",
       "      <td>ARBOUR LAKE LIQUOR</td>\n",
       "      <td>37 CROWFOOT RI NW</td>\n",
       "      <td>LIQUOR STORE</td>\n",
       "      <td>ARBOUR LAKE</td>\n",
       "      <td>RENEWAL LICENSED</td>\n",
       "      <td>2014/12/10</td>\n",
       "      <td>-114.211064</td>\n",
       "      <td>51.125870</td>\n",
       "      <td>(51.1258701250349, -114.211064199092)</td>\n",
       "      <td>1</td>\n",
       "    </tr>\n",
       "  </tbody>\n",
       "</table>\n",
       "</div>"
      ],
      "text/plain": [
       "                            TRADENAME            ADDRESS  \\\n",
       "0              MORE CONVENIENCE STORE     11201 30 ST SW   \n",
       "1                               CUBEX  9304 HORTON RD SW   \n",
       "2  RESTAURANT AT LOUGHEED HOUSE (THE)       707 13 AV SW   \n",
       "3           WESTECK WINDOWS AND DOORS   #4 2015 32 AV NE   \n",
       "4                  ARBOUR LAKE LIQUOR  37 CROWFOOT RI NW   \n",
       "\n",
       "                          LICENCETYPES      COMDISTNM     JOBSTATUSDESC  \\\n",
       "0             RETAIL DEALER - PREMISES      CEDARBRAE  RENEWAL LICENSED   \n",
       "1                           WHOLESALER       HAYSBORO  RENEWAL LICENSED   \n",
       "2  ALCOHOL BEVERAGE SALES (RESTAURANT)       BELTLINE  RENEWAL LICENSED   \n",
       "3             RETAIL DEALER - PREMISES  SOUTH AIRWAYS  RENEWAL LICENSED   \n",
       "4                         LIQUOR STORE    ARBOUR LAKE  RENEWAL LICENSED   \n",
       "\n",
       "   JOBCREATED   longitude   latitude                               location  \\\n",
       "0  2009/06/11 -114.130062  50.953449  (50.9534492575157, -114.130062103058)   \n",
       "1  2014/01/07 -114.075268  50.971295  (50.9712947174267, -114.075267980215)   \n",
       "2  2009/10/16 -114.077150  51.040573  (51.0405732559672, -114.077149598877)   \n",
       "3  2015/12/07 -114.010275  51.080509  (51.0805090794563, -114.010274803475)   \n",
       "4  2014/12/10 -114.211064  51.125870  (51.1258701250349, -114.211064199092)   \n",
       "\n",
       "   Count  \n",
       "0      1  \n",
       "1      1  \n",
       "2      1  \n",
       "3      1  \n",
       "4      1  "
      ]
     },
     "execution_count": 5,
     "metadata": {},
     "output_type": "execute_result"
    }
   ],
   "source": [
    "# Import data.\n",
    "df = pd.read_csv('Calgary_Business_Licences.csv')\n",
    "df.head()"
   ]
  },
  {
   "cell_type": "code",
   "execution_count": 7,
   "metadata": {
    "collapsed": false
   },
   "outputs": [
    {
     "name": "stdout",
     "output_type": "stream",
     "text": [
      "<class 'pandas.core.frame.DataFrame'>\n",
      "RangeIndex: 30660 entries, 0 to 30659\n",
      "Data columns (total 10 columns):\n",
      "TRADENAME        30660 non-null object\n",
      "ADDRESS          30660 non-null object\n",
      "LICENCETYPES     30660 non-null object\n",
      "COMDISTNM        30660 non-null object\n",
      "JOBSTATUSDESC    30660 non-null object\n",
      "JOBCREATED       30660 non-null object\n",
      "longitude        30660 non-null float64\n",
      "latitude         30660 non-null float64\n",
      "location         30660 non-null object\n",
      "Count            30660 non-null int64\n",
      "dtypes: float64(2), int64(1), object(7)\n",
      "memory usage: 2.3+ MB\n"
     ]
    }
   ],
   "source": [
    "# Describe the data.\n",
    "df.info()"
   ]
  },
  {
   "cell_type": "markdown",
   "metadata": {},
   "source": [
    "Unique values for categorical columns:"
   ]
  },
  {
   "cell_type": "code",
   "execution_count": 176,
   "metadata": {
    "collapsed": false
   },
   "outputs": [
    {
     "data": {
      "image/png": "[encoded data removed]",
      "text/plain": [
       "<matplotlib.figure.Figure at 0x12274e450>"
      ]
     },
     "metadata": {},
     "output_type": "display_data"
    }
   ],
   "source": [
    "fig,ax=plt.subplots(figsize=[10,5])\n",
    "sns.countplot(df['JOBSTATUSDESC'],ax=ax)\n",
    "ax.set_title('Job Description of Each Observation\\n',fontsize=20)\n",
    "sns.despine(ax=ax)\n",
    "plt.gcf().autofmt_xdate()"
   ]
  },
  {
   "cell_type": "markdown",
   "metadata": {},
   "source": [
    "## Timeline of Business License Data\n",
    "\n",
    "The JOBCREATED variable is the date (yyyy/mm/dd) of the datapoint. \n",
    "\n",
    "On that date, one of the following transactions occurred:\n",
    "\n",
    "- RENEWAL LICENSED\n",
    "- LICENSED\n",
    "- PENDING RENEWAL\n",
    "- RENEWAL INVOICED\n",
    "- EXPIRED\n",
    "- RENEWAL NOTIFICATION SENT\n",
    "\n",
    "These are different transactions and should be analyzed accordingly. \n",
    "\n",
    "Let's start with a full timeline of licensed businesses (those for the first time), and stratify by COMMDISTNM (community name)."
   ]
  },
  {
   "cell_type": "markdown",
   "metadata": {},
   "source": [
    "Convert dates to datetime objects."
   ]
  },
  {
   "cell_type": "code",
   "execution_count": 177,
   "metadata": {
    "collapsed": false
   },
   "outputs": [],
   "source": [
    "import datetime\n",
    "year, month, day = [int(x[:4]) for x in df['JOBCREATED']], [int(x[5:7]) for x in df['JOBCREATED']] ,[int(x[8:10]) for x in df['JOBCREATED']] \n",
    "dates = []\n",
    "\n",
    "for i in range(len(year)):\n",
    "    dt = pd.datetime(year=year[i],month=month[i],day=day[i])\n",
    "    dates.append(dt)\n",
    "\n",
    "# Assign a date column.\n",
    "df['Date'] = dates"
   ]
  },
  {
   "cell_type": "markdown",
   "metadata": {},
   "source": [
    "Let's plot the timeline of each individual community. "
   ]
  },
  {
   "cell_type": "code",
   "execution_count": 178,
   "metadata": {
    "collapsed": false
   },
   "outputs": [
    {
     "data": {
      "image/png": "[encoded data removed]",
      "text/plain": [
       "<matplotlib.figure.Figure at 0x123d9bf90>"
      ]
     },
     "metadata": {},
     "output_type": "display_data"
    }
   ],
   "source": [
    "x = [datetime.datetime(year=2009,month=1,day=1) + datetime.timedelta(days=i) for i in range(365)]\n",
    "y = [i for i,_ in enumerate(x)]\n",
    "\n",
    "# plot\n",
    "plt.plot(x,y)\n",
    "# beautify the x-labels\n",
    "plt.gcf().autofmt_xdate()\n",
    "\n",
    "plt.show()"
   ]
  },
  {
   "cell_type": "code",
   "execution_count": null,
   "metadata": {
    "collapsed": true
   },
   "outputs": [],
   "source": []
  }
 ],
 "metadata": {
  "kernelspec": {
   "display_name": "Python 2",
   "language": "python",
   "name": "python2"
  },
  "language_info": {
   "codemirror_mode": {
    "name": "ipython",
    "version": 2
   },
   "file_extension": ".py",
   "mimetype": "text/x-python",
   "name": "python",
   "nbconvert_exporter": "python",
   "pygments_lexer": "ipython2",
   "version": "2.7.13"
  }
 },
 "nbformat": 4,
 "nbformat_minor": 2
}
